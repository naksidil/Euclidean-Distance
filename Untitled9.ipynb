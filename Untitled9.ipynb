{
 "cells": [
  {
   "cell_type": "code",
   "execution_count": 25,
   "id": "a88fb245",
   "metadata": {},
   "outputs": [
    {
     "name": "stdout",
     "output_type": "stream",
     "text": [
      "Minimum mesafe: 1.4142135623730951\n"
     ]
    }
   ],
   "source": [
    "import math\n",
    "\n",
    "# noktaların tanımlanması\n",
    "points = [(4, 5), (7, 8), (3, 1), (5, 6)]  # Örnek noktalar\n",
    "\n",
    "# öklid mesafesini bulan fonksiyon\n",
    "def euclideanDistance(point1, point2):\n",
    "    x1, y1 = point1\n",
    "    x2, y2 = point2\n",
    "    distance = math.sqrt((x2 - x1) ** 2 + (y2 - y1) ** 2)\n",
    "    return distance\n",
    "\n",
    "\"\"\" \n",
    "İki nokta arasındaki Öklid mesafesini hesaplar.\n",
    "\n",
    "  Args:\n",
    "    point1: (x1, y1) şeklinde bir demet olarak ilk nokta.\n",
    "    point2: (x2, y2) şeklinde bir demet olarak ikinci nokta.\n",
    "\n",
    "  Returns:\n",
    "    İki nokta arasındaki Öklid mesafesi.\n",
    "\"\"\"\n",
    "\n",
    "\n",
    "#mesafeleri hesaplar ve distances listesine ekler\n",
    "distances = []\n",
    "for i in range(len(points)):\n",
    "    for j in range(i+1, len(points)):\n",
    "        distance = euclideanDistance(points[i], points[j])\n",
    "        distances.append(distance)\n",
    "\n",
    "#minimum mesafeyi bulur\n",
    "minDistance = min(distances)\n",
    "print(\"Minimum mesafe:\", minDistance)\n"
   ]
  },
  {
   "cell_type": "code",
   "execution_count": null,
   "id": "5a5e055c",
   "metadata": {},
   "outputs": [],
   "source": []
  }
 ],
 "metadata": {
  "kernelspec": {
   "display_name": "Python 3 (ipykernel)",
   "language": "python",
   "name": "python3"
  },
  "language_info": {
   "codemirror_mode": {
    "name": "ipython",
    "version": 3
   },
   "file_extension": ".py",
   "mimetype": "text/x-python",
   "name": "python",
   "nbconvert_exporter": "python",
   "pygments_lexer": "ipython3",
   "version": "3.11.3"
  }
 },
 "nbformat": 4,
 "nbformat_minor": 5
}
